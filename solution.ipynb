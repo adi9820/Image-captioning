{
  "cells": [
    {
      "cell_type": "code",
      "source": [
        "!git clone https://github.com/adi9820/Image-captioning"
      ],
      "metadata": {
        "colab": {
          "base_uri": "https://localhost:8080/"
        },
        "id": "W8dVArTKocmq",
        "outputId": "50e629f9-af05-43cc-e17e-d9b9b0665560"
      },
      "id": "W8dVArTKocmq",
      "execution_count": 1,
      "outputs": [
        {
          "output_type": "stream",
          "name": "stdout",
          "text": [
            "Cloning into 'Image-captioning'...\n",
            "remote: Enumerating objects: 8107, done.\u001b[K\n",
            "remote: Counting objects: 100% (14/14), done.\u001b[K\n",
            "remote: Compressing objects: 100% (8/8), done.\u001b[K\n",
            "remote: Total 8107 (delta 5), reused 14 (delta 5), pack-reused 8093\u001b[K\n",
            "Receiving objects: 100% (8107/8107), 1.03 GiB | 35.03 MiB/s, done.\n",
            "Resolving deltas: 100% (5/5), done.\n",
            "Updating files: 100% (8100/8100), done.\n"
          ]
        }
      ]
    },
    {
      "cell_type": "code",
      "execution_count": 1,
      "id": "75bff325-dac4-421c-928e-25dd086798cb",
      "metadata": {
        "id": "75bff325-dac4-421c-928e-25dd086798cb"
      },
      "outputs": [],
      "source": [
        "from os import listdir\n",
        "from pickle import dump\n",
        "from keras.applications.vgg16 import VGG16\n",
        "from keras.preprocessing.image import load_img\n",
        "from keras.preprocessing.image import img_to_array\n",
        "from keras.applications.vgg16 import preprocess_input\n",
        "from keras.models import Model\n",
        "\n",
        "import string\n",
        "\n",
        "import numpy as np\n",
        "from numpy import array\n",
        "from pickle import load\n",
        "from keras.preprocessing.text import Tokenizer\n",
        "from keras.preprocessing.sequence import pad_sequences\n",
        "from keras.utils import to_categorical\n",
        "from keras.utils import plot_model\n",
        "from keras.models import Model\n",
        "from keras.layers import Input\n",
        "from keras.layers import Dense\n",
        "from keras.layers import LSTM\n",
        "from keras.layers import Embedding\n",
        "from keras.layers import Dropout\n",
        "from keras.layers import concatenate\n",
        "from keras.callbacks import ModelCheckpoint\n",
        "from keras.utils import plot_model\n",
        "import graphviz\n",
        "\n",
        "\n",
        "from numpy import argmax\n",
        "from keras.models import load_model\n",
        "from nltk.translate.bleu_score import corpus_bleu"
      ]
    },
    {
      "cell_type": "code",
      "execution_count": 23,
      "id": "a97790ce-a75f-4984-8e6a-a6dcef2cc4f5",
      "metadata": {
        "id": "a97790ce-a75f-4984-8e6a-a6dcef2cc4f5"
      },
      "outputs": [],
      "source": [
        "# extract features from each photo in the directory\n",
        "def extract_features(directory):\n",
        "\t# load the model\n",
        "\tmodel = VGG16()\n",
        "\t# re-structure the model\n",
        "\tmodel = Model(inputs=model.inputs, outputs=model.layers[-2].output)\n",
        "\t# summarize\n",
        "\tprint(model.summary())\n",
        "\t# extract features from each photo\n",
        "\tfeatures = dict()\n",
        "\tfor name in listdir(directory):\n",
        "\t\t# load an image from file\n",
        "\t\tfilename = directory + '/' + name\n",
        "\t\timage = load_img(filename, target_size=(224, 224))\n",
        "\t\t# convert the image pixels to a numpy array\n",
        "\t\timage = img_to_array(image)\n",
        "\t\t# reshape data for the model\n",
        "\t\timage = image.reshape((1, image.shape[0], image.shape[1], image.shape[2]))\n",
        "\t\t# prepare the image for the VGG model\n",
        "\t\timage = preprocess_input(image)\n",
        "\t\t# get features\n",
        "\t\tfeature = model.predict(image, verbose=0)\n",
        "\t\t# get image id\n",
        "\t\timage_id = name.split('.')[0]\n",
        "\t\t# store feature\n",
        "\t\tfeatures[image_id] = feature\n",
        "\t\tprint('>%s' % name)\n",
        "\treturn features"
      ]
    },
    {
      "cell_type": "code",
      "source": [
        "# extract features from all images\n",
        "directory = \"/content/Image-captioning/Flickr8k_Dataset\"\n",
        "features = extract_features(directory)\n",
        "print('Extracted Features: %d' % len(features))\n",
        "# save to file\n",
        "dump(features, open('features.pkl', 'wb'))"
      ],
      "metadata": {
        "id": "Qzbl94DdK_T-"
      },
      "id": "Qzbl94DdK_T-",
      "execution_count": null,
      "outputs": []
    },
    {
      "cell_type": "code",
      "execution_count": 3,
      "id": "e9d1dd69-6d6c-47c4-81b2-6b7939c28d88",
      "metadata": {
        "id": "e9d1dd69-6d6c-47c4-81b2-6b7939c28d88"
      },
      "outputs": [],
      "source": [
        "# load document.txt\n",
        "def load_doc(filename):\n",
        "    # open the file as read only\n",
        "    with open(filename, 'r') as file:\n",
        "        # read all text\n",
        "        text = file.read()\n",
        "    # file is automatically closed when leaving the 'with' block\n",
        "    return text"
      ]
    },
    {
      "cell_type": "code",
      "execution_count": 4,
      "id": "2ab914e7-404c-4ab4-ac92-c786b942687f",
      "metadata": {
        "id": "2ab914e7-404c-4ab4-ac92-c786b942687f"
      },
      "outputs": [],
      "source": [
        "# extract descriptions for images, each image has more than 1 description\n",
        "def load_descriptions(doc):\n",
        "\tmapping = dict()\n",
        "\t# process lines\n",
        "\tfor line in doc.split('\\n'):\n",
        "\t\t# split line by white space\n",
        "\t\ttokens = line.split()\n",
        "\t\tif len(line) < 2:\n",
        "\t\t\tcontinue\n",
        "\t\t# take the first token as the image id, the rest as the description\n",
        "\t\timage_id, image_desc = tokens[0], tokens[1:]\n",
        "\t\t# remove filename from image id\n",
        "\t\timage_id = image_id.split('.')[0]\n",
        "\t\t# convert description tokens back to string\n",
        "\t\timage_desc = ' '.join(image_desc)\n",
        "\t\t# create the list if needed\n",
        "\t\tif image_id not in mapping:\n",
        "\t\t\tmapping[image_id] = list()\n",
        "\t\t# store description\n",
        "\t\tmapping[image_id].append(image_desc)\n",
        "\treturn mapping"
      ]
    },
    {
      "cell_type": "code",
      "execution_count": 5,
      "id": "ae41f5d1-5f78-4319-9f1f-36eac192d50d",
      "metadata": {
        "id": "ae41f5d1-5f78-4319-9f1f-36eac192d50d"
      },
      "outputs": [],
      "source": [
        "def clean_descriptions(descriptions):\n",
        "    # prepare translation table for removing punctuation\n",
        "    table = str.maketrans('', '', string.punctuation)\n",
        "    for key, desc_list in descriptions.items():\n",
        "        for i in range(len(desc_list)):\n",
        "            desc = desc_list[i]\n",
        "            # tokenize\n",
        "            desc = desc.split()\n",
        "            # convert to lower case\n",
        "            desc = [word.lower() for word in desc]\n",
        "            # remove punctuation from each token\n",
        "            desc = [w.translate(table) for w in desc]\n",
        "            # remove hanging 's' and 'a'\n",
        "            desc = [word for word in desc if len(word) > 1]\n",
        "            # remove tokens with numbers in them\n",
        "            desc = [word for word in desc if word.isalpha()]\n",
        "            # add start and end tags to the caption\n",
        "            desc = \"startseq \" + \" \".join([word for word in desc if len(word) > 1]) + \" endseq\"\n",
        "            # store as string\n",
        "            desc_list[i] = ''.join(desc)"
      ]
    },
    {
      "cell_type": "code",
      "execution_count": 6,
      "id": "48797f5c-e624-47e8-9a48-df4ee770b3d6",
      "metadata": {
        "id": "48797f5c-e624-47e8-9a48-df4ee770b3d6"
      },
      "outputs": [],
      "source": [
        "# convert the loaded descriptions into a vocabulary of uniqwords (unique words)\n",
        "def to_vocabulary(descriptions):\n",
        "\t# build a list of all description strings\n",
        "\tall_desc = set()\n",
        "\tfor key in descriptions.keys():\n",
        "\t\t[all_desc.update(d.split()) for d in descriptions[key]]\n",
        "\treturn all_desc"
      ]
    },
    {
      "cell_type": "code",
      "execution_count": 7,
      "id": "f61098d4-9436-444e-b7ec-580d7e4baa26",
      "metadata": {
        "id": "f61098d4-9436-444e-b7ec-580d7e4baa26"
      },
      "outputs": [],
      "source": [
        "# save descriptions to file, one per line\n",
        "def save_descriptions(descriptions, filename):\n",
        "\tlines = list()\n",
        "\tfor key, desc_list in descriptions.items():\n",
        "\t\tfor desc in desc_list:\n",
        "\t\t\tlines.append(key + ' ' + desc)\n",
        "\tdata = '\\n'.join(lines)\n",
        "\tfile = open(filename, 'w')\n",
        "\tfile.write(data)\n",
        "\tfile.close()"
      ]
    },
    {
      "cell_type": "code",
      "execution_count": 9,
      "id": "5231f525-5d16-44be-989e-4654ab899200",
      "metadata": {
        "id": "5231f525-5d16-44be-989e-4654ab899200"
      },
      "outputs": [],
      "source": [
        "filename = \"/content/Image-captioning/Flickr8k_text/Flickr8k.token.txt\"\n",
        "doc = load_doc(filename)\n",
        "descriptions = load_descriptions(doc)\n",
        "clean_descriptions(descriptions)\n",
        "vocabulary = to_vocabulary(descriptions)\n",
        "save_descriptions(descriptions, 'descriptions.txt')"
      ]
    },
    {
      "cell_type": "code",
      "execution_count": 8,
      "id": "8c6b1eda-5b8c-4606-a564-532a0e7583ea",
      "metadata": {
        "id": "8c6b1eda-5b8c-4606-a564-532a0e7583ea"
      },
      "outputs": [],
      "source": [
        "# load a pre-defined list of photo identifiers\n",
        "def load_set(filename):\n",
        "\tdoc = load_doc(filename)\n",
        "\tdataset = list()\n",
        "\t# process line by line\n",
        "\tfor line in doc.split('\\n'):\n",
        "\t\t# skip empty lines\n",
        "\t\tif len(line) < 1:\n",
        "\t\t\tcontinue\n",
        "\t\t# get the image identifier\n",
        "\t\tidentifier = line.split('.')[0]\n",
        "\t\tdataset.append(identifier)\n",
        "\treturn set(dataset)"
      ]
    },
    {
      "cell_type": "code",
      "execution_count": 9,
      "id": "25161734-fb4a-458e-90dd-f8a40b67688f",
      "metadata": {
        "id": "25161734-fb4a-458e-90dd-f8a40b67688f"
      },
      "outputs": [],
      "source": [
        "# load clean descriptions into memory\n",
        "def load_clean_descriptions(filename, dataset):\n",
        "\t# load document\n",
        "\tdoc = load_doc(filename)\n",
        "\tdescriptions = dict()\n",
        "\tfor line in doc.split('\\n'):\n",
        "\t\t# split line by white space\n",
        "\t\ttokens = line.split()\n",
        "\t\t# split id from description\n",
        "\t\timage_id, image_desc = tokens[0], tokens[1:]\n",
        "\t\t# skip images not in the set\n",
        "\t\tif image_id in dataset:\n",
        "\t\t\t# create list\n",
        "\t\t\tif image_id not in descriptions:\n",
        "\t\t\t\tdescriptions[image_id] = list()\n",
        "\t\t\t# wrap description in tokens\n",
        "\t\t\tdesc = 'startseq ' + ' '.join(image_desc) + ' endseq'\n",
        "\t\t\t# store\n",
        "\t\t\tdescriptions[image_id].append(desc)\n",
        "\treturn descriptions"
      ]
    },
    {
      "cell_type": "code",
      "execution_count": 10,
      "id": "9667ce26-9893-413f-ae28-2e0a61fcdaba",
      "metadata": {
        "id": "9667ce26-9893-413f-ae28-2e0a61fcdaba"
      },
      "outputs": [],
      "source": [
        "from pickle import load\n",
        " # load photo features\n",
        "def load_photo_features(filename, dataset):\n",
        "\t# load all features\n",
        "\tall_features = load(open(filename, 'rb'))\n",
        "\t# filter features\n",
        "\tfeatures = {k: all_features[k] for k in dataset}\n",
        "\treturn features"
      ]
    },
    {
      "cell_type": "code",
      "execution_count": 11,
      "id": "855cc71c-20af-4b43-87f6-addfdb015439",
      "metadata": {
        "id": "855cc71c-20af-4b43-87f6-addfdb015439"
      },
      "outputs": [],
      "source": [
        "# convert a dictionary of clean descriptions to a list of descriptions\n",
        "def to_lines(descriptions):\n",
        "\tall_desc = list()\n",
        "\tfor key in descriptions.keys():\n",
        "\t\t[all_desc.append(d) for d in descriptions[key]]\n",
        "\treturn all_desc"
      ]
    },
    {
      "cell_type": "code",
      "execution_count": 12,
      "id": "ccf58fe1-fe81-42eb-8f28-0367ec1c5ca8",
      "metadata": {
        "id": "ccf58fe1-fe81-42eb-8f28-0367ec1c5ca8"
      },
      "outputs": [],
      "source": [
        "# fit a tokenizer given caption descriptions\n",
        "def create_tokenizer(descriptions):\n",
        "\tlines = to_lines(descriptions)\n",
        "\ttokenizer = Tokenizer()\n",
        "\ttokenizer.fit_on_texts(lines)\n",
        "\treturn tokenizer"
      ]
    },
    {
      "cell_type": "code",
      "source": [
        "# calculate the length of the description with the most words\n",
        "def max_length(descriptions):\n",
        "\tlines = to_lines(descriptions)\n",
        "\treturn max(len(d.split()) for d in lines)"
      ],
      "metadata": {
        "id": "pGLVl_XCVjZx"
      },
      "id": "pGLVl_XCVjZx",
      "execution_count": 32,
      "outputs": []
    },
    {
      "cell_type": "code",
      "source": [
        "# create data generator to get data in batch (avoids session crash)\n",
        "def data_generator(data_keys, clean_description, features, tokenizer, max_length, vocab_size, batch_size):\n",
        "    # loop over images\n",
        "    X1, X2, y = list(), list(), list()\n",
        "    n = 0\n",
        "    while 1:\n",
        "        for key in data_keys:\n",
        "            n += 1\n",
        "            captions = clean_description[key]\n",
        "            # process each caption\n",
        "            for caption in captions:\n",
        "                # encode the sequence\n",
        "                seq = tokenizer.texts_to_sequences([caption])[0]\n",
        "                # split the sequence into X, y pairs\n",
        "                for i in range(1, len(seq)):\n",
        "                    # split into input and output pairs\n",
        "                    in_seq, out_seq = seq[:i], seq[i]\n",
        "                    # pad input sequence\n",
        "                    in_seq = pad_sequences([in_seq], maxlen=max_length)[0]\n",
        "                    # encode output sequence\n",
        "                    out_seq = to_categorical([out_seq], num_classes=vocab_size)[0]\n",
        "\n",
        "                    # store the sequences\n",
        "                    X1.append(features[key][0])\n",
        "                    X2.append(in_seq)\n",
        "                    y.append(out_seq)\n",
        "            if n == batch_size:\n",
        "                X1, X2, y = np.array(X1), np.array(X2), np.array(y)\n",
        "                yield [X1, X2], y\n",
        "                X1, X2, y = list(), list(), list()\n",
        "                n = 0"
      ],
      "metadata": {
        "id": "Nhc3m34f-3XK"
      },
      "id": "Nhc3m34f-3XK",
      "execution_count": 14,
      "outputs": []
    },
    {
      "cell_type": "code",
      "source": [
        "# define the captioning model\n",
        "def define_model(vocab_size, max_length):\n",
        "\t# feature extractor model\n",
        "\tinputs1 = Input(shape=(4096,))\n",
        "\tfe1 = Dropout(0.5)(inputs1)\n",
        "\tfe2 = Dense(256, activation='relu')(fe1)\n",
        "\t# sequence model\n",
        "\tinputs2 = Input(shape=(max_length,))\n",
        "\tse1 = Embedding(vocab_size, 256, mask_zero=True)(inputs2)\n",
        "\tse2 = Dropout(0.5)(se1)\n",
        "\tse3 = LSTM(256)(se2)\n",
        "\t# decoder model\n",
        "\tdecoder1 = concatenate([fe2, se3])\n",
        "\tdecoder2 = Dense(256, activation='relu')(decoder1)\n",
        "\toutputs = Dense(vocab_size, activation='softmax')(decoder2)\n",
        "\t# tie it together [image, seq] [word]\n",
        "\tmodel = Model(inputs=[inputs1, inputs2], outputs=outputs)\n",
        "\tmodel.compile(loss='categorical_crossentropy', optimizer='adam')\n",
        "\t# summarize model\n",
        "\tprint(model.summary())\n",
        "\tplot_model(model, to_file='model.png', show_shapes=True)\n",
        "\treturn model"
      ],
      "metadata": {
        "id": "THdhJ6vg201l"
      },
      "id": "THdhJ6vg201l",
      "execution_count": 15,
      "outputs": []
    },
    {
      "cell_type": "code",
      "source": [
        "# load training dataset (6K)\n",
        "filename = \"/content/Image-captioning/Flickr8k_text/Flickr_8k.trainImages.txt\"\n",
        "train_keys = load_set(filename)\n",
        "print('Dataset: %d' % len(train_keys))\n",
        "# descriptions\n",
        "train_descriptions = load_clean_descriptions('descriptions.txt', train_keys)\n",
        "print('Descriptions: train=%d' % len(train_descriptions))\n",
        "# photo features\n",
        "train_features = load_photo_features('features.pkl', train_keys)\n",
        "print('Photos: train=%d' % len(train_features))\n",
        "\n",
        "# prepare tokenizer\n",
        "tokenizer = create_tokenizer(train_descriptions)\n",
        "vocab_size = len(tokenizer.word_index) + 1\n",
        "print('Vocabulary Size: %d' % vocab_size)\n",
        "# save the tokenizer\n",
        "dump(tokenizer, open('tokenizer.pkl', 'wb'))\n",
        "# determine the maximum sequence length\n",
        "max_length = max_length(train_descriptions)\n",
        "print('Description Length: %d' % max_length)"
      ],
      "metadata": {
        "colab": {
          "base_uri": "https://localhost:8080/"
        },
        "id": "mdOQuKnh4H0c",
        "outputId": "5268ddf6-bf5e-4681-d7cb-5ca6ab7076d3"
      },
      "id": "mdOQuKnh4H0c",
      "execution_count": 33,
      "outputs": [
        {
          "output_type": "stream",
          "name": "stdout",
          "text": [
            "Dataset: 6000\n",
            "Descriptions: train=6000\n",
            "Photos: train=6000\n",
            "Vocabulary Size: 7579\n",
            "Description Length: 36\n"
          ]
        }
      ]
    },
    {
      "cell_type": "code",
      "source": [
        "# load validation dataset (1K)\n",
        "filename = \"/content/Image-captioning/Flickr8k_text/Flickr_8k.devImages.txt\"\n",
        "val_keys = load_set(filename)\n",
        "print('Dataset: %d' % len(val_keys))\n",
        "# descriptions\n",
        "val_descriptions = load_clean_descriptions('descriptions.txt', val_keys)\n",
        "print('Descriptions: train=%d' % len(val_descriptions))\n",
        "# photo features\n",
        "val_features = load_photo_features('features.pkl', val_keys)\n",
        "print('Photos: train=%d' % len(val_features))"
      ],
      "metadata": {
        "colab": {
          "base_uri": "https://localhost:8080/"
        },
        "id": "-KboMdu5_iNn",
        "outputId": "97d63c31-eaa4-4e75-ffad-c9fd2fcff698"
      },
      "id": "-KboMdu5_iNn",
      "execution_count": 25,
      "outputs": [
        {
          "output_type": "stream",
          "name": "stdout",
          "text": [
            "Dataset: 1000\n",
            "Descriptions: train=1000\n",
            "Photos: train=1000\n"
          ]
        }
      ]
    },
    {
      "cell_type": "code",
      "source": [
        "model = define_model(vocab_size, max_length)"
      ],
      "metadata": {
        "colab": {
          "base_uri": "https://localhost:8080/"
        },
        "id": "YGsG9Foz3zBI",
        "outputId": "7cf7676c-cced-4c51-96da-bec14a7c0233"
      },
      "id": "YGsG9Foz3zBI",
      "execution_count": 26,
      "outputs": [
        {
          "output_type": "stream",
          "name": "stdout",
          "text": [
            "Model: \"model_1\"\n",
            "__________________________________________________________________________________________________\n",
            " Layer (type)                Output Shape                 Param #   Connected to                  \n",
            "==================================================================================================\n",
            " input_3 (InputLayer)        [(None, 36)]                 0         []                            \n",
            "                                                                                                  \n",
            " input_2 (InputLayer)        [(None, 4096)]               0         []                            \n",
            "                                                                                                  \n",
            " embedding (Embedding)       (None, 36, 256)              1940224   ['input_3[0][0]']             \n",
            "                                                                                                  \n",
            " dropout (Dropout)           (None, 4096)                 0         ['input_2[0][0]']             \n",
            "                                                                                                  \n",
            " dropout_1 (Dropout)         (None, 36, 256)              0         ['embedding[0][0]']           \n",
            "                                                                                                  \n",
            " dense (Dense)               (None, 256)                  1048832   ['dropout[0][0]']             \n",
            "                                                                                                  \n",
            " lstm (LSTM)                 (None, 256)                  525312    ['dropout_1[0][0]']           \n",
            "                                                                                                  \n",
            " concatenate (Concatenate)   (None, 512)                  0         ['dense[0][0]',               \n",
            "                                                                     'lstm[0][0]']                \n",
            "                                                                                                  \n",
            " dense_1 (Dense)             (None, 256)                  131328    ['concatenate[0][0]']         \n",
            "                                                                                                  \n",
            " dense_2 (Dense)             (None, 7579)                 1947803   ['dense_1[0][0]']             \n",
            "                                                                                                  \n",
            "==================================================================================================\n",
            "Total params: 5593499 (21.34 MB)\n",
            "Trainable params: 5593499 (21.34 MB)\n",
            "Non-trainable params: 0 (0.00 Byte)\n",
            "__________________________________________________________________________________________________\n",
            "None\n"
          ]
        }
      ]
    },
    {
      "cell_type": "code",
      "execution_count": 27,
      "id": "3f03a2fe-6368-46ab-aa0f-7d9cbc4f8d24",
      "metadata": {
        "colab": {
          "base_uri": "https://localhost:8080/"
        },
        "id": "3f03a2fe-6368-46ab-aa0f-7d9cbc4f8d24",
        "outputId": "f32b4e7a-2386-421c-bb4f-2ceb5004551f"
      },
      "outputs": [
        {
          "output_type": "stream",
          "name": "stdout",
          "text": [
            "187/187 [==============================] - 77s 364ms/step - loss: 4.5208 - val_loss: 3.7272\n"
          ]
        },
        {
          "output_type": "stream",
          "name": "stderr",
          "text": [
            "/usr/local/lib/python3.10/dist-packages/keras/src/engine/training.py:3079: UserWarning: You are saving your model as an HDF5 file via `model.save()`. This file format is considered legacy. We recommend using instead the native Keras format, e.g. `model.save('my_model.keras')`.\n",
            "  saving_api.save_model(\n"
          ]
        },
        {
          "output_type": "stream",
          "name": "stdout",
          "text": [
            "187/187 [==============================] - 64s 342ms/step - loss: 3.5075 - val_loss: 3.4100\n",
            "187/187 [==============================] - 70s 374ms/step - loss: 3.1690 - val_loss: 3.2785\n",
            "187/187 [==============================] - 65s 349ms/step - loss: 2.9373 - val_loss: 3.2356\n",
            "187/187 [==============================] - 60s 322ms/step - loss: 2.7555 - val_loss: 3.2301\n",
            "187/187 [==============================] - 63s 335ms/step - loss: 2.6130 - val_loss: 3.2178\n",
            "187/187 [==============================] - 61s 323ms/step - loss: 2.4934 - val_loss: 3.2131\n",
            "187/187 [==============================] - 65s 348ms/step - loss: 2.3997 - val_loss: 3.2402\n",
            "187/187 [==============================] - 66s 350ms/step - loss: 2.3162 - val_loss: 3.2757\n",
            "187/187 [==============================] - 66s 351ms/step - loss: 2.2476 - val_loss: 3.3189\n"
          ]
        }
      ],
      "source": [
        "# train the model\n",
        "epochs = 10\n",
        "batch_size = 32\n",
        "train_steps = len(train_keys) // batch_size\n",
        "validation_steps=len(val_keys) // batch_size\n",
        "for i in range(epochs):\n",
        "    # create data generator\n",
        "    train_generator = data_generator(train_keys, train_descriptions, train_features, tokenizer, max_length, vocab_size, batch_size)\n",
        "    val_generator = data_generator(val_keys, val_descriptions, val_features, tokenizer, max_length, vocab_size, batch_size)\n",
        "    # fit for one epoch\n",
        "    history=model.fit(train_generator, epochs=1,\n",
        "                      steps_per_epoch=train_steps,\n",
        "                      verbose=1,\n",
        "                      validation_data=val_generator,\n",
        "                      validation_steps=validation_steps)\n",
        "    # Access training and validation loss\n",
        "    train_loss = history.history['loss'][0]\n",
        "    val_loss = history.history['val_loss'][0]\n",
        "\n",
        "    # Save the model with both training and validation loss in the filename\n",
        "    model.save(f'model_epoch_{i}_train_loss_{train_loss:.3f}_val_loss_{val_loss:.3f}.h5')"
      ]
    },
    {
      "cell_type": "code",
      "source": [],
      "metadata": {
        "id": "9WSyH5XZQ8RO"
      },
      "id": "9WSyH5XZQ8RO",
      "execution_count": 27,
      "outputs": []
    },
    {
      "cell_type": "code",
      "source": [
        "# map an integer to a word\n",
        "def word_for_id(integer, tokenizer):\n",
        "\tfor word, index in tokenizer.word_index.items():\n",
        "\t\tif index == integer:\n",
        "\t\t\treturn word\n",
        "\treturn None\n"
      ],
      "metadata": {
        "id": "dk0VzUBhP3m3"
      },
      "id": "dk0VzUBhP3m3",
      "execution_count": 16,
      "outputs": []
    },
    {
      "cell_type": "code",
      "source": [
        "# generate a description for an image\n",
        "def generate_desc(model, tokenizer, photo, max_length):\n",
        "\t# seed the generation process\n",
        "\tin_text = 'startseq'\n",
        "\t# iterate over the whole length of the sequence\n",
        "\tfor i in range(max_length):\n",
        "\t\t# integer encode input sequence\n",
        "\t\tsequence = tokenizer.texts_to_sequences([in_text])[0]\n",
        "\t\t# pad input\n",
        "\t\tsequence = pad_sequences([sequence], maxlen=max_length)\n",
        "\t\t# predict next word\n",
        "\t\tyhat = model.predict([photo,sequence], verbose=0)\n",
        "\t\t# convert probability to integer\n",
        "\t\tyhat = argmax(yhat)\n",
        "\t\t# map integer to word\n",
        "\t\tword = word_for_id(yhat, tokenizer)\n",
        "\t\t# stop if we cannot map the word\n",
        "\t\tif word is None:\n",
        "\t\t\tbreak\n",
        "\t\t# append as input for generating the next word\n",
        "\t\tin_text += ' ' + word\n",
        "\t\t# stop if we predict the end of the sequence\n",
        "\t\tif word == 'endseq':\n",
        "\t\t\tbreak\n",
        "\treturn in_text"
      ],
      "metadata": {
        "id": "oDmeztx_RAJf"
      },
      "id": "oDmeztx_RAJf",
      "execution_count": 17,
      "outputs": []
    },
    {
      "cell_type": "code",
      "source": [
        "# evaluate the skill of the model\n",
        "def evaluate_model(model, descriptions, photos, tokenizer, max_length):\n",
        "\tactual, predicted = list(), list()\n",
        "\t# step over the whole set\n",
        "\tfor key, desc_list in descriptions.items():\n",
        "\t\t# generate description\n",
        "\t\tyhat = generate_desc(model, tokenizer, photos[key], max_length)\n",
        "\t\t# store actual and predicted\n",
        "\t\treferences = [d.split() for d in desc_list]\n",
        "\t\tactual.append(references)\n",
        "\t\tpredicted.append(yhat.split())\n",
        "\t# calculate BLEU score\n",
        "\tprint('BLEU-1: %f' % corpus_bleu(actual, predicted, weights=(1.0, 0, 0, 0)))\n",
        "\tprint('BLEU-2: %f' % corpus_bleu(actual, predicted, weights=(0.5, 0.5, 0, 0)))\n",
        "\tprint('BLEU-3: %f' % corpus_bleu(actual, predicted, weights=(0.3, 0.3, 0.3, 0)))\n",
        "\tprint('BLEU-4: %f' % corpus_bleu(actual, predicted, weights=(0.25, 0.25, 0.25, 0.25)))"
      ],
      "metadata": {
        "id": "tjOhocH0RKsn"
      },
      "id": "tjOhocH0RKsn",
      "execution_count": 18,
      "outputs": []
    },
    {
      "cell_type": "code",
      "source": [
        "# load test set\n",
        "filename = '/content/Image-captioning/Flickr8k_text/Flickr_8k.testImages.txt'\n",
        "test = load_set(filename)\n",
        "print('Dataset: %d' % len(test))\n",
        "# descriptions\n",
        "test_descriptions = load_clean_descriptions('descriptions.txt', test)\n",
        "print('Descriptions: test=%d' % len(test_descriptions))\n",
        "# photo features\n",
        "test_features = load_photo_features('features.pkl', test)\n",
        "print('Photos: test=%d' % len(test_features))"
      ],
      "metadata": {
        "id": "FobVbqobR-r0",
        "colab": {
          "base_uri": "https://localhost:8080/"
        },
        "outputId": "faf9190d-e545-46fb-b8d6-0c1a3e472a6f"
      },
      "id": "FobVbqobR-r0",
      "execution_count": 19,
      "outputs": [
        {
          "output_type": "stream",
          "name": "stdout",
          "text": [
            "Dataset: 1000\n",
            "Descriptions: test=1000\n",
            "Photos: test=1000\n"
          ]
        }
      ]
    },
    {
      "cell_type": "code",
      "source": [
        "# load the model\n",
        "filename = '/content/model_epoch_6_train_loss_2.493_val_loss_3.213.h5'\n",
        "model = load_model(filename)\n",
        "# evaluate model\n",
        "evaluate_model(model, test_descriptions, test_features, tokenizer, max_length)"
      ],
      "metadata": {
        "id": "9rA9YLNHSJQ_",
        "colab": {
          "base_uri": "https://localhost:8080/"
        },
        "outputId": "a6c957f8-c319-40ce-9cd1-420c266c2d16"
      },
      "id": "9rA9YLNHSJQ_",
      "execution_count": 22,
      "outputs": [
        {
          "output_type": "stream",
          "name": "stdout",
          "text": [
            "BLEU-1: 0.613071\n",
            "BLEU-2: 0.421933\n",
            "BLEU-3: 0.320130\n",
            "BLEU-4: 0.183955\n"
          ]
        }
      ]
    },
    {
      "cell_type": "code",
      "source": [
        "# generating a description for an entirely new standalone photograph (Here I am using a photo from dataset)\n",
        "\n",
        "# extract features from single photo in the directory\n",
        "def extract_features(filename):\n",
        "\t# load the model\n",
        "\tmodel = VGG16()\n",
        "\t# re-structure the model\n",
        "\tmodel = Model(inputs=model.inputs, outputs=model.layers[-2].output)\n",
        "\t# load the photo\n",
        "\timage = load_img(filename, target_size=(224, 224))\n",
        "\t# convert the image pixels to a numpy array\n",
        "\timage = img_to_array(image)\n",
        "\t# reshape data for the model\n",
        "\timage = image.reshape((1, image.shape[0], image.shape[1], image.shape[2]))\n",
        "\t# prepare the image for the VGG model\n",
        "\timage = preprocess_input(image)\n",
        "\t# get features\n",
        "\tfeature = model.predict(image, verbose=0)\n",
        "\treturn feature\n",
        "\n",
        "# map an integer to a word (function above)\n",
        "# generate a description for an image (function above)\n",
        "\n",
        "# load the tokenizer\n",
        "tokenizer = load(open('tokenizer.pkl', 'rb'))\n",
        "# pre-define the max sequence length (from training)\n",
        "# load the model (already loaded above)\n",
        "# load and prepare the photograph\n",
        "photo = extract_features('/content/Image-captioning/Flickr8k_Dataset/1000268201_693b08cb0e.jpg')\n",
        "# generate description\n",
        "description = generate_desc(model, tokenizer, photo, max_length)\n",
        "print(description)"
      ],
      "metadata": {
        "colab": {
          "base_uri": "https://localhost:8080/"
        },
        "id": "HJS_Sg7RHNOj",
        "outputId": "c041c90d-c9a7-4d41-93fd-69e55c325f12"
      },
      "id": "HJS_Sg7RHNOj",
      "execution_count": 34,
      "outputs": [
        {
          "output_type": "stream",
          "name": "stdout",
          "text": [
            "startseq startseq the woman is sitting on bench endseq\n"
          ]
        }
      ]
    },
    {
      "cell_type": "code",
      "source": [],
      "metadata": {
        "id": "GkXzeSE4LrVg"
      },
      "id": "GkXzeSE4LrVg",
      "execution_count": null,
      "outputs": []
    }
  ],
  "metadata": {
    "kernelspec": {
      "display_name": "Python 3",
      "name": "python3"
    },
    "language_info": {
      "codemirror_mode": {
        "name": "ipython",
        "version": 3
      },
      "file_extension": ".py",
      "mimetype": "text/x-python",
      "name": "python",
      "nbconvert_exporter": "python",
      "pygments_lexer": "ipython3",
      "version": "3.10.10"
    },
    "colab": {
      "provenance": [],
      "gpuType": "T4"
    },
    "accelerator": "GPU"
  },
  "nbformat": 4,
  "nbformat_minor": 5
}